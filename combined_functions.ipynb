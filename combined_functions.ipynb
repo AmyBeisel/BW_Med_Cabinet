{
 "cells": [
  {
   "cell_type": "code",
   "execution_count": 1,
   "metadata": {},
   "outputs": [
    {
     "name": "stderr",
     "output_type": "stream",
     "text": [
      "In /Users/amybeisel/opt/anaconda3/envs/U4-S1-NLP/lib/python3.7/site-packages/matplotlib/mpl-data/stylelib/_classic_test.mplstyle: \n",
      "The savefig.frameon rcparam was deprecated in Matplotlib 3.1 and will be removed in 3.3.\n",
      "In /Users/amybeisel/opt/anaconda3/envs/U4-S1-NLP/lib/python3.7/site-packages/matplotlib/mpl-data/stylelib/_classic_test.mplstyle: \n",
      "The verbose.level rcparam was deprecated in Matplotlib 3.1 and will be removed in 3.3.\n",
      "In /Users/amybeisel/opt/anaconda3/envs/U4-S1-NLP/lib/python3.7/site-packages/matplotlib/mpl-data/stylelib/_classic_test.mplstyle: \n",
      "The verbose.fileo rcparam was deprecated in Matplotlib 3.1 and will be removed in 3.3.\n"
     ]
    }
   ],
   "source": [
    "import pandas as pd\n",
    "import re\n",
    "import string\n",
    "import matplotlib.pyplot as plt\n",
    "import numpy as np\n",
    "import spacy\n",
    "from sklearn.feature_extraction.text import CountVectorizer, TfidfVectorizer\n",
    "from sklearn.neighbors import NearestNeighbors"
   ]
  },
  {
   "cell_type": "code",
   "execution_count": 3,
   "metadata": {},
   "outputs": [],
   "source": [
    "df = pd.read_csv('data/cannabis.csv')"
   ]
  },
  {
   "cell_type": "code",
   "execution_count": 4,
   "metadata": {},
   "outputs": [],
   "source": [
    "df = df.replace('None', np.nan)\n",
    "df = df.dropna().reset_index()"
   ]
  },
  {
   "cell_type": "code",
   "execution_count": 5,
   "metadata": {},
   "outputs": [],
   "source": [
    "df['Flavor']= df['Flavor'].str.replace(',',' ')\n",
    "df['Effects'] = df['Effects'].str.replace(',', ' ')"
   ]
  },
  {
   "cell_type": "code",
   "execution_count": 6,
   "metadata": {},
   "outputs": [],
   "source": [
    "df['combined'] = df[\"Effects\"] +  df[\"Flavor\"] + df['Description']"
   ]
  },
  {
   "cell_type": "code",
   "execution_count": 7,
   "metadata": {},
   "outputs": [
    {
     "data": {
      "text/plain": [
       "NearestNeighbors(algorithm='kd_tree', leaf_size=30, metric='minkowski',\n",
       "                 metric_params=None, n_jobs=None, n_neighbors=4, p=2,\n",
       "                 radius=1.0)"
      ]
     },
     "execution_count": 7,
     "metadata": {},
     "output_type": "execute_result"
    }
   ],
   "source": [
    "\n",
    "# Instantiate vectorizer object\n",
    "tfidf = TfidfVectorizer(stop_words = 'english',\n",
    "                       ngram_range = (1,2),\n",
    "                       max_features = 2000)\n",
    "\n",
    "# Create a vocabulary and tf-idf score per document\n",
    "dtm = tfidf.fit_transform(df['combined'])\n",
    "                         \n",
    "\n",
    "# Get feature names to use as dataframe column headers\n",
    "dtm = pd.DataFrame(dtm.todense(), columns=tfidf.get_feature_names())\n",
    "nn = NearestNeighbors(n_neighbors=4, algorithm='kd_tree')\n",
    "nn.fit(dtm)"
   ]
  },
  {
   "cell_type": "code",
   "execution_count": 8,
   "metadata": {},
   "outputs": [],
   "source": [
    "import pickle\n",
    "# Dump the trained classifier (nn)  with Pickle\n",
    "pickle_filename = 'model.pkl2'\n",
    "pickled_model = open(pickle_filename, 'wb')  # Open the file to save as pkl file\n",
    "pickle.dump(nn, pickled_model)\n",
    "pickled_model.close() # Close the pickle instances"
   ]
  },
  {
   "cell_type": "code",
   "execution_count": 9,
   "metadata": {},
   "outputs": [
    {
     "name": "stdout",
     "output_type": "stream",
     "text": [
      "Loaded model ::  NearestNeighbors(algorithm='kd_tree', leaf_size=30, metric='minkowski',\n",
      "                 metric_params=None, n_jobs=None, n_neighbors=4, p=2,\n",
      "                 radius=1.0)\n"
     ]
    }
   ],
   "source": [
    "# Loading the saved model\n",
    "model_pkl2 = open(pickle_filename, 'rb')\n",
    "NN_model2 = pickle.load(model_pkl2)\n",
    "print (\"Loaded model :: \", NN_model2)  # print to verify"
   ]
  },
  {
   "cell_type": "code",
   "execution_count": 10,
   "metadata": {},
   "outputs": [],
   "source": [
    "# Dump the trained classifier (tfidf)  with Pickle\n",
    "pickle_filename_1 = 'tfidf.pkl2'\n",
    "pickled_model_1 = open(pickle_filename_1, 'wb')  # Open the file to save as pkl file\n",
    "pickle.dump(tfidf, pickled_model_1)\n",
    "pickled_model_1.close() # Close the pickle instances"
   ]
  },
  {
   "cell_type": "code",
   "execution_count": 11,
   "metadata": {},
   "outputs": [
    {
     "name": "stdout",
     "output_type": "stream",
     "text": [
      "Loaded model ::  TfidfVectorizer(analyzer='word', binary=False, decode_error='strict',\n",
      "                dtype=<class 'numpy.float64'>, encoding='utf-8',\n",
      "                input='content', lowercase=True, max_df=1.0, max_features=2000,\n",
      "                min_df=1, ngram_range=(1, 2), norm='l2', preprocessor=None,\n",
      "                smooth_idf=True, stop_words='english', strip_accents=None,\n",
      "                sublinear_tf=False, token_pattern='(?u)\\\\b\\\\w\\\\w+\\\\b',\n",
      "                tokenizer=None, use_idf=True, vocabulary=None)\n"
     ]
    }
   ],
   "source": [
    "# Loading the saved model\n",
    "model_pkl_1 = open(pickle_filename_1, 'rb')\n",
    "tfidf_model2 = pickle.load(model_pkl_1)\n",
    "print (\"Loaded model :: \", tfidf_model2)  # print to verify"
   ]
  },
  {
   "cell_type": "code",
   "execution_count": 12,
   "metadata": {},
   "outputs": [],
   "source": [
    "import json\n",
    "def recommend(user_input):\n",
    "    temp_df = NN_model2.kneighbors(tfidf_model2.transform([user_input]).todense())[1]\n",
    "    \n",
    "\n",
    "    #print(temp_df)\n",
    "    \n",
    "    for i in range(4):\n",
    "        info = df.loc[temp_df[0][i]]['Strain']\n",
    "        info_effects = df.loc[temp_df[0][i]]['Effects']\n",
    "        info_flavor = df.loc[temp_df[0][i]]['Flavor']\n",
    "        info_description = df.loc[temp_df[0][i]]['Description']\n",
    "        info_rating = df.loc[temp_df[0][i]]['Rating']\n",
    "        \n",
    "        print(json.dumps(info))\n",
    "        print(json.dumps(info_effects))\n",
    "        print(json.dumps(info_flavor))\n",
    "        print(json.dumps(info_description))\n",
    "        print(json.dumps(info_rating))\n",
    "        \n",
    "        #return json.dumps(info)  #for engineeers, the return does not work in jupyter lab.  Should work in vsCode.\n",
    "        #return json.dumps(info_effects)\n",
    "        #return json.dumps(info_flavor)\n",
    "        #return json.dump(info_description)\n",
    "        #return json.dumps(info_rating)"
   ]
  },
  {
   "cell_type": "code",
   "execution_count": 13,
   "metadata": {},
   "outputs": [
    {
     "name": "stdout",
     "output_type": "stream",
     "text": [
      "\"Jackalope\"\n",
      "\"Happy Relaxed Aroused Sleepy Talkative\"\n",
      "\"Citrus Earthy Flowery\"\n",
      "\"Jackalope is a mostly sativa strain that crosses Chocolope and Black Jack in a flavorful\\u00a0combination of berry and chocolate confection. Jack Herer ancestry reveals itself\\u00a0through this strain's energized and happy effects, which slowly taper\\u00a0down to\\u00a0mellow relaxation over time.\\u00a0\"\n",
      "4.2\n",
      "\"Denver-Maple\"\n",
      "\"Relaxed Sleepy Giggly Tingly Uplifted\"\n",
      "\"Sweet Earthy Pine\"\n",
      "\"Denver Maple is an indica strain that took 3rd place in the 2014 Denver Cannabis Cup.\"\n",
      "4.4\n",
      "\"Belladonna\"\n",
      "\"Happy Sleepy Giggly Euphoric Uplifted\"\n",
      "\"Peach Earthy Butter\"\n",
      "\"Belladonna is a mostly sativa strain that also carries good indica characteristics making for a very nice hybrid. \\u00a0A faster flowering time than typical sativa strains makes Belladonna a favorite among growers. \\u00a0With a fruity smell and a trippy high Paradise Seeds has bred a winner.\"\n",
      "4.0\n",
      "\"Enigma\"\n",
      "\"Relaxed Happy Sleepy Giggly Euphoric\"\n",
      "\"Citrus Pungent Flowery\"\n",
      "\"The indica-dominant Enigma strain is as mysterious as its name makes it sound; not much is known about its origins, but Enigma is a long-lasting euphoric strain with earthy and tangy flavors. The natural progression of its effects begins with carefree happiness and ends in a sleepy haze. Enigma is a great strain for patients experiencing appetite loss and/or cachexia.\"\n",
      "4.6\n"
     ]
    }
   ],
   "source": [
    "recommend('hybrid-like in its balanced calm and moderate cerebral effects')"
   ]
  },
  {
   "cell_type": "code",
   "execution_count": null,
   "metadata": {},
   "outputs": [],
   "source": []
  }
 ],
 "metadata": {
  "kernelspec": {
   "display_name": "U4-S1-NLP (Python3)",
   "language": "python",
   "name": "u4-s1-nlp"
  },
  "language_info": {
   "codemirror_mode": {
    "name": "ipython",
    "version": 3
   },
   "file_extension": ".py",
   "mimetype": "text/x-python",
   "name": "python",
   "nbconvert_exporter": "python",
   "pygments_lexer": "ipython3",
   "version": "3.7.0"
  }
 },
 "nbformat": 4,
 "nbformat_minor": 4
}
