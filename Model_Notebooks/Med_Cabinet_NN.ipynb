{
  "nbformat": 4,
  "nbformat_minor": 0,
  "metadata": {
    "colab": {
      "name": "Med_Cabinet_NN",
      "provenance": [],
      "collapsed_sections": []
    },
    "kernelspec": {
      "name": "python3",
      "display_name": "Python 3"
    },
    "accelerator": "GPU"
  },
  "cells": [
    {
      "cell_type": "markdown",
      "metadata": {
        "id": "KJQPpBXZDZvQ",
        "colab_type": "text"
      },
      "source": [
        "### IMPORTS"
      ]
    },
    {
      "cell_type": "code",
      "metadata": {
        "id": "0R-G-GsR9wkC",
        "colab_type": "code",
        "colab": {}
      },
      "source": [
        "# Imports that will be using in this notebook\n",
        "\n",
        "from sklearn.model_selection import train_test_split\n",
        "import pandas as pd\n",
        "import numpy as np\n",
        "import tensorflow as tf\n",
        "from tensorflow.keras.models import Sequential\n",
        "from tensorflow.keras.layers import Dense, Embedding, Input\n",
        "from tensorflow.keras import layers\n",
        "from sklearn.feature_extraction.text import CountVectorizer, TfidfVectorizer\n",
        "from sklearn.model_selection import train_test_split\n",
        "from sklearn.metrics import accuracy_score\n",
        "from sklearn import preprocessing\n",
        "import pickle"
      ],
      "execution_count": null,
      "outputs": []
    },
    {
      "cell_type": "markdown",
      "metadata": {
        "id": "AMpP-qddDdsZ",
        "colab_type": "text"
      },
      "source": [
        "### READING IN DATA"
      ]
    },
    {
      "cell_type": "code",
      "metadata": {
        "id": "8qlxc0qawZOs",
        "colab_type": "code",
        "colab": {}
      },
      "source": [
        "# Data Source\n",
        "# https://www.kaggle.com/kingburrito666/cannabis-strains"
      ],
      "execution_count": null,
      "outputs": []
    },
    {
      "cell_type": "code",
      "metadata": {
        "id": "YXa15Pxq97ae",
        "colab_type": "code",
        "colab": {}
      },
      "source": [
        "# Reading in cannabis data\n",
        "\n",
        "weed = pd.read_csv('cannabis.csv')"
      ],
      "execution_count": null,
      "outputs": []
    },
    {
      "cell_type": "code",
      "metadata": {
        "id": "3b0qAi53-BPg",
        "colab_type": "code",
        "colab": {
          "base_uri": "https://localhost:8080/",
          "height": 402
        },
        "outputId": "fe468f94-04ef-4db0-860a-e4d5922858c5"
      },
      "source": [
        "# Checking the whole dataframe and making sure I read it in correctly\n",
        "\n",
        "weed"
      ],
      "execution_count": null,
      "outputs": [
        {
          "output_type": "execute_result",
          "data": {
            "text/html": [
              "<div>\n",
              "<style scoped>\n",
              "    .dataframe tbody tr th:only-of-type {\n",
              "        vertical-align: middle;\n",
              "    }\n",
              "\n",
              "    .dataframe tbody tr th {\n",
              "        vertical-align: top;\n",
              "    }\n",
              "\n",
              "    .dataframe thead th {\n",
              "        text-align: right;\n",
              "    }\n",
              "</style>\n",
              "<table border=\"1\" class=\"dataframe\">\n",
              "  <thead>\n",
              "    <tr style=\"text-align: right;\">\n",
              "      <th></th>\n",
              "      <th>Strain</th>\n",
              "      <th>Type</th>\n",
              "      <th>Rating</th>\n",
              "      <th>Effects</th>\n",
              "      <th>Flavor</th>\n",
              "      <th>Description</th>\n",
              "    </tr>\n",
              "  </thead>\n",
              "  <tbody>\n",
              "    <tr>\n",
              "      <th>0</th>\n",
              "      <td>100-Og</td>\n",
              "      <td>hybrid</td>\n",
              "      <td>4.0</td>\n",
              "      <td>Creative,Energetic,Tingly,Euphoric,Relaxed</td>\n",
              "      <td>Earthy,Sweet,Citrus</td>\n",
              "      <td>$100 OG is a 50/50 hybrid strain that packs a ...</td>\n",
              "    </tr>\n",
              "    <tr>\n",
              "      <th>1</th>\n",
              "      <td>98-White-Widow</td>\n",
              "      <td>hybrid</td>\n",
              "      <td>4.7</td>\n",
              "      <td>Relaxed,Aroused,Creative,Happy,Energetic</td>\n",
              "      <td>Flowery,Violet,Diesel</td>\n",
              "      <td>The ‘98 Aloha White Widow is an especially pot...</td>\n",
              "    </tr>\n",
              "    <tr>\n",
              "      <th>2</th>\n",
              "      <td>1024</td>\n",
              "      <td>sativa</td>\n",
              "      <td>4.4</td>\n",
              "      <td>Uplifted,Happy,Relaxed,Energetic,Creative</td>\n",
              "      <td>Spicy/Herbal,Sage,Woody</td>\n",
              "      <td>1024 is a sativa-dominant hybrid bred in Spain...</td>\n",
              "    </tr>\n",
              "    <tr>\n",
              "      <th>3</th>\n",
              "      <td>13-Dawgs</td>\n",
              "      <td>hybrid</td>\n",
              "      <td>4.2</td>\n",
              "      <td>Tingly,Creative,Hungry,Relaxed,Uplifted</td>\n",
              "      <td>Apricot,Citrus,Grapefruit</td>\n",
              "      <td>13 Dawgs is a hybrid of G13 and Chemdawg genet...</td>\n",
              "    </tr>\n",
              "    <tr>\n",
              "      <th>4</th>\n",
              "      <td>24K-Gold</td>\n",
              "      <td>hybrid</td>\n",
              "      <td>4.6</td>\n",
              "      <td>Happy,Relaxed,Euphoric,Uplifted,Talkative</td>\n",
              "      <td>Citrus,Earthy,Orange</td>\n",
              "      <td>Also known as Kosher Tangie, 24k Gold is a 60%...</td>\n",
              "    </tr>\n",
              "    <tr>\n",
              "      <th>...</th>\n",
              "      <td>...</td>\n",
              "      <td>...</td>\n",
              "      <td>...</td>\n",
              "      <td>...</td>\n",
              "      <td>...</td>\n",
              "      <td>...</td>\n",
              "    </tr>\n",
              "    <tr>\n",
              "      <th>2346</th>\n",
              "      <td>Zeus-Og</td>\n",
              "      <td>hybrid</td>\n",
              "      <td>4.7</td>\n",
              "      <td>Happy,Uplifted,Relaxed,Euphoric,Energetic</td>\n",
              "      <td>Earthy,Woody,Pine</td>\n",
              "      <td>Zeus OG is a hybrid cross between Pineapple OG...</td>\n",
              "    </tr>\n",
              "    <tr>\n",
              "      <th>2347</th>\n",
              "      <td>Zkittlez</td>\n",
              "      <td>indica</td>\n",
              "      <td>4.6</td>\n",
              "      <td>Relaxed,Happy,Euphoric,Uplifted,Sleepy</td>\n",
              "      <td>Sweet,Berry,Grape</td>\n",
              "      <td>Zkittlez is an indica-dominant mix of Grape Ap...</td>\n",
              "    </tr>\n",
              "    <tr>\n",
              "      <th>2348</th>\n",
              "      <td>Zombie-Kush</td>\n",
              "      <td>indica</td>\n",
              "      <td>5.0</td>\n",
              "      <td>Relaxed,Sleepy,Talkative,Euphoric,Happy</td>\n",
              "      <td>Earthy,Sweet,Spicy/Herbal</td>\n",
              "      <td>Zombie Kush by Ripper Seeds comes from two dif...</td>\n",
              "    </tr>\n",
              "    <tr>\n",
              "      <th>2349</th>\n",
              "      <td>Zombie-Og</td>\n",
              "      <td>indica</td>\n",
              "      <td>4.4</td>\n",
              "      <td>Relaxed,Sleepy,Euphoric,Happy,Hungry</td>\n",
              "      <td>Sweet,Earthy,Pungent</td>\n",
              "      <td>If you’re looking to transform into a flesh-ea...</td>\n",
              "    </tr>\n",
              "    <tr>\n",
              "      <th>2350</th>\n",
              "      <td>Zoom-Pie</td>\n",
              "      <td>indica</td>\n",
              "      <td>4.6</td>\n",
              "      <td>Hungry,Relaxed,Uplifted,Happy,Sleepy</td>\n",
              "      <td>Berry,Earthy,Pungent</td>\n",
              "      <td>Zoom Pie (also known as Zombie Pie) is a heavy...</td>\n",
              "    </tr>\n",
              "  </tbody>\n",
              "</table>\n",
              "<p>2351 rows × 6 columns</p>\n",
              "</div>"
            ],
            "text/plain": [
              "              Strain  ...                                        Description\n",
              "0             100-Og  ...  $100 OG is a 50/50 hybrid strain that packs a ...\n",
              "1     98-White-Widow  ...  The ‘98 Aloha White Widow is an especially pot...\n",
              "2               1024  ...  1024 is a sativa-dominant hybrid bred in Spain...\n",
              "3           13-Dawgs  ...  13 Dawgs is a hybrid of G13 and Chemdawg genet...\n",
              "4           24K-Gold  ...  Also known as Kosher Tangie, 24k Gold is a 60%...\n",
              "...              ...  ...                                                ...\n",
              "2346         Zeus-Og  ...  Zeus OG is a hybrid cross between Pineapple OG...\n",
              "2347        Zkittlez  ...  Zkittlez is an indica-dominant mix of Grape Ap...\n",
              "2348     Zombie-Kush  ...  Zombie Kush by Ripper Seeds comes from two dif...\n",
              "2349       Zombie-Og  ...  If you’re looking to transform into a flesh-ea...\n",
              "2350        Zoom-Pie  ...  Zoom Pie (also known as Zombie Pie) is a heavy...\n",
              "\n",
              "[2351 rows x 6 columns]"
            ]
          },
          "metadata": {
            "tags": []
          },
          "execution_count": 4
        }
      ]
    },
    {
      "cell_type": "markdown",
      "metadata": {
        "id": "q4lpvJh6DgR0",
        "colab_type": "text"
      },
      "source": [
        "### DATA PREPROCESSING"
      ]
    },
    {
      "cell_type": "code",
      "metadata": {
        "id": "XLdzdcag_R9X",
        "colab_type": "code",
        "colab": {
          "base_uri": "https://localhost:8080/",
          "height": 1000
        },
        "outputId": "e6f2a935-f890-43d4-fb20-c6620828794f"
      },
      "source": [
        "# I know that there are some NaN values in the Flavor column so checking to see how many\n",
        "\n",
        "weed[weed['Flavor'].isnull()]"
      ],
      "execution_count": null,
      "outputs": [
        {
          "output_type": "execute_result",
          "data": {
            "text/html": [
              "<div>\n",
              "<style scoped>\n",
              "    .dataframe tbody tr th:only-of-type {\n",
              "        vertical-align: middle;\n",
              "    }\n",
              "\n",
              "    .dataframe tbody tr th {\n",
              "        vertical-align: top;\n",
              "    }\n",
              "\n",
              "    .dataframe thead th {\n",
              "        text-align: right;\n",
              "    }\n",
              "</style>\n",
              "<table border=\"1\" class=\"dataframe\">\n",
              "  <thead>\n",
              "    <tr style=\"text-align: right;\">\n",
              "      <th></th>\n",
              "      <th>Strain</th>\n",
              "      <th>Type</th>\n",
              "      <th>Rating</th>\n",
              "      <th>Effects</th>\n",
              "      <th>Flavor</th>\n",
              "      <th>Description</th>\n",
              "    </tr>\n",
              "  </thead>\n",
              "  <tbody>\n",
              "    <tr>\n",
              "      <th>103</th>\n",
              "      <td>Amethyst</td>\n",
              "      <td>hybrid</td>\n",
              "      <td>3.9</td>\n",
              "      <td>Energetic,Creative,Giggly,Hungry,Happy</td>\n",
              "      <td>NaN</td>\n",
              "      <td>Amethyst is a hybrid cannabis strain from the ...</td>\n",
              "    </tr>\n",
              "    <tr>\n",
              "      <th>123</th>\n",
              "      <td>Arabian-Gold</td>\n",
              "      <td>sativa</td>\n",
              "      <td>4.1</td>\n",
              "      <td>Euphoric,Tingly,Giggly,Sleepy,Creative</td>\n",
              "      <td>NaN</td>\n",
              "      <td>Arabian Gold is a heavy sativa strain of myste...</td>\n",
              "    </tr>\n",
              "    <tr>\n",
              "      <th>160</th>\n",
              "      <td>Bad-Azz-Kush</td>\n",
              "      <td>hybrid</td>\n",
              "      <td>5.0</td>\n",
              "      <td>None</td>\n",
              "      <td>NaN</td>\n",
              "      <td>Bad Azz Kush by Barney’s Farm was created with...</td>\n",
              "    </tr>\n",
              "    <tr>\n",
              "      <th>215</th>\n",
              "      <td>Birds-Eye</td>\n",
              "      <td>sativa</td>\n",
              "      <td>5.0</td>\n",
              "      <td>Happy,Uplifted,Energetic,Euphoric,Relaxed</td>\n",
              "      <td>NaN</td>\n",
              "      <td>Birds Eye is a variety of Jack Herer grown by ...</td>\n",
              "    </tr>\n",
              "    <tr>\n",
              "      <th>364</th>\n",
              "      <td>Boombaye</td>\n",
              "      <td>hybrid</td>\n",
              "      <td>0.0</td>\n",
              "      <td>None</td>\n",
              "      <td>NaN</td>\n",
              "      <td>Boombaye by Mr. Mack’s Snack is a CBD-rich str...</td>\n",
              "    </tr>\n",
              "    <tr>\n",
              "      <th>379</th>\n",
              "      <td>Broke-Diesel</td>\n",
              "      <td>hybrid</td>\n",
              "      <td>5.0</td>\n",
              "      <td>Uplifted,Euphoric,Creative,Energetic,Happy</td>\n",
              "      <td>NaN</td>\n",
              "      <td>Broke Diesel is a 50/50 hybrid marijuana strai...</td>\n",
              "    </tr>\n",
              "    <tr>\n",
              "      <th>484</th>\n",
              "      <td>Chem-Jong-Ill</td>\n",
              "      <td>hybrid</td>\n",
              "      <td>5.0</td>\n",
              "      <td>Uplifted,Creative,Happy,Talkative,Energetic</td>\n",
              "      <td>NaN</td>\n",
              "      <td>This sativa-dominant cross is for cannabis pro...</td>\n",
              "    </tr>\n",
              "    <tr>\n",
              "      <th>574</th>\n",
              "      <td>Confidential-Wreck</td>\n",
              "      <td>hybrid</td>\n",
              "      <td>4.2</td>\n",
              "      <td>Hungry,Relaxed,Tingly,Uplifted,Creative</td>\n",
              "      <td>NaN</td>\n",
              "      <td>Confidential Wreck, also known as Lohan, is th...</td>\n",
              "    </tr>\n",
              "    <tr>\n",
              "      <th>673</th>\n",
              "      <td>Do-Over-Og</td>\n",
              "      <td>hybrid</td>\n",
              "      <td>4.7</td>\n",
              "      <td>Talkative,Uplifted,Creative,Euphoric,Happy</td>\n",
              "      <td>NaN</td>\n",
              "      <td>Do-Over OG is an indica-dominant strain that c...</td>\n",
              "    </tr>\n",
              "    <tr>\n",
              "      <th>679</th>\n",
              "      <td>Domino</td>\n",
              "      <td>indica</td>\n",
              "      <td>4.0</td>\n",
              "      <td>Sleepy,Happy,Tingly,Uplifted,Euphoric</td>\n",
              "      <td>NaN</td>\n",
              "      <td>NaN</td>\n",
              "    </tr>\n",
              "    <tr>\n",
              "      <th>770</th>\n",
              "      <td>Ether</td>\n",
              "      <td>indica</td>\n",
              "      <td>3.5</td>\n",
              "      <td>Sleepy,Uplifted,Euphoric,Happy,Hungry</td>\n",
              "      <td>NaN</td>\n",
              "      <td>Generally referred to as Alien Dawg (“Ether” c...</td>\n",
              "    </tr>\n",
              "    <tr>\n",
              "      <th>831</th>\n",
              "      <td>G-Force</td>\n",
              "      <td>indica</td>\n",
              "      <td>5.0</td>\n",
              "      <td>None</td>\n",
              "      <td>NaN</td>\n",
              "      <td>G-Force by Flying Dutchman is a hearty G13 and...</td>\n",
              "    </tr>\n",
              "    <tr>\n",
              "      <th>899</th>\n",
              "      <td>Goldwing</td>\n",
              "      <td>sativa</td>\n",
              "      <td>4.7</td>\n",
              "      <td>Uplifted,Happy,Euphoric,Creative,Energetic</td>\n",
              "      <td>NaN</td>\n",
              "      <td>NaN</td>\n",
              "    </tr>\n",
              "    <tr>\n",
              "      <th>964</th>\n",
              "      <td>Grimmdica</td>\n",
              "      <td>indica</td>\n",
              "      <td>5.0</td>\n",
              "      <td>Euphoric,Relaxed</td>\n",
              "      <td>NaN</td>\n",
              "      <td>Legendary Canadian breeders Brothers Grimm See...</td>\n",
              "    </tr>\n",
              "    <tr>\n",
              "      <th>970</th>\n",
              "      <td>Guido-Kush</td>\n",
              "      <td>indica</td>\n",
              "      <td>4.1</td>\n",
              "      <td>Euphoric,Uplifted,Creative,Relaxed,Sleepy</td>\n",
              "      <td>NaN</td>\n",
              "      <td>NaN</td>\n",
              "    </tr>\n",
              "    <tr>\n",
              "      <th>1066</th>\n",
              "      <td>I-95</td>\n",
              "      <td>hybrid</td>\n",
              "      <td>4.0</td>\n",
              "      <td>Creative,Energetic,Euphoric,Focused,Happy</td>\n",
              "      <td>NaN</td>\n",
              "      <td>I-95 is deep hybrid cut bred from Triangle Kus...</td>\n",
              "    </tr>\n",
              "    <tr>\n",
              "      <th>1093</th>\n",
              "      <td>Jt15</td>\n",
              "      <td>indica</td>\n",
              "      <td>5.0</td>\n",
              "      <td>Relaxed,Sleepy,Happy,Hungry,Uplifted</td>\n",
              "      <td>NaN</td>\n",
              "      <td>JT15 is an indica Kush cross with a powerful o...</td>\n",
              "    </tr>\n",
              "    <tr>\n",
              "      <th>1177</th>\n",
              "      <td>Khola</td>\n",
              "      <td>hybrid</td>\n",
              "      <td>4.2</td>\n",
              "      <td>Giggly,Hungry,Aroused,Euphoric,Uplifted</td>\n",
              "      <td>NaN</td>\n",
              "      <td>Khola is a sociable cross between Brazilian, T...</td>\n",
              "    </tr>\n",
              "    <tr>\n",
              "      <th>1199</th>\n",
              "      <td>Krakatoa</td>\n",
              "      <td>hybrid</td>\n",
              "      <td>4.0</td>\n",
              "      <td>Energetic,Euphoric,Sleepy,Uplifted,Happy</td>\n",
              "      <td>NaN</td>\n",
              "      <td>NaN</td>\n",
              "    </tr>\n",
              "    <tr>\n",
              "      <th>1252</th>\n",
              "      <td>Lem-Chem</td>\n",
              "      <td>hybrid</td>\n",
              "      <td>4.0</td>\n",
              "      <td>Energetic,Focused,Hungry</td>\n",
              "      <td>NaN</td>\n",
              "      <td>Lem Chem is a potent hybrid that is both sweet...</td>\n",
              "    </tr>\n",
              "    <tr>\n",
              "      <th>1365</th>\n",
              "      <td>Matsu</td>\n",
              "      <td>indica</td>\n",
              "      <td>5.0</td>\n",
              "      <td>Euphoric,Tingly,Happy,Sleepy,Hungry</td>\n",
              "      <td>NaN</td>\n",
              "      <td>NaN</td>\n",
              "    </tr>\n",
              "    <tr>\n",
              "      <th>1366</th>\n",
              "      <td>Mau-Mau</td>\n",
              "      <td>hybrid</td>\n",
              "      <td>4.0</td>\n",
              "      <td>Uplifted,Happy,Creative,Energetic,Euphoric</td>\n",
              "      <td>NaN</td>\n",
              "      <td>Mau-Mau is a hybrid from Irie Vibe Seeds that ...</td>\n",
              "    </tr>\n",
              "    <tr>\n",
              "      <th>1440</th>\n",
              "      <td>Mud-Bite</td>\n",
              "      <td>indica</td>\n",
              "      <td>5.0</td>\n",
              "      <td>Euphoric,Relaxed,Sleepy,Uplifted,Giggly</td>\n",
              "      <td>NaN</td>\n",
              "      <td>There is a very little known about Mud Bite. T...</td>\n",
              "    </tr>\n",
              "    <tr>\n",
              "      <th>1512</th>\n",
              "      <td>Old-Mother-Sativa</td>\n",
              "      <td>sativa</td>\n",
              "      <td>4.0</td>\n",
              "      <td>None</td>\n",
              "      <td>NaN</td>\n",
              "      <td>Old Mother Sativa is an enormous plant with up...</td>\n",
              "    </tr>\n",
              "    <tr>\n",
              "      <th>1545</th>\n",
              "      <td>Orient-Express</td>\n",
              "      <td>hybrid</td>\n",
              "      <td>4.5</td>\n",
              "      <td>Uplifted,Euphoric,Happy,Hungry,Relaxed</td>\n",
              "      <td>NaN</td>\n",
              "      <td>Orient Express by Ace Seeds is a sativa-domina...</td>\n",
              "    </tr>\n",
              "    <tr>\n",
              "      <th>1553</th>\n",
              "      <td>Pvc-Og</td>\n",
              "      <td>indica</td>\n",
              "      <td>4.5</td>\n",
              "      <td>Tingly,Focused,Talkative,Uplifted,Energetic</td>\n",
              "      <td>NaN</td>\n",
              "      <td>PVC OG is a proprietary strain introduced by P...</td>\n",
              "    </tr>\n",
              "    <tr>\n",
              "      <th>1577</th>\n",
              "      <td>Peyton-Manning</td>\n",
              "      <td>hybrid</td>\n",
              "      <td>0.0</td>\n",
              "      <td>None</td>\n",
              "      <td>NaN</td>\n",
              "      <td>Peyton Manning is a horticultural homage to De...</td>\n",
              "    </tr>\n",
              "    <tr>\n",
              "      <th>1706</th>\n",
              "      <td>Purple-Pantera</td>\n",
              "      <td>hybrid</td>\n",
              "      <td>4.8</td>\n",
              "      <td>Sleepy,Euphoric,Relaxed</td>\n",
              "      <td>NaN</td>\n",
              "      <td>Purple Pantera is an indica-dominant hybrid br...</td>\n",
              "    </tr>\n",
              "    <tr>\n",
              "      <th>1711</th>\n",
              "      <td>Purple-Pinecone</td>\n",
              "      <td>indica</td>\n",
              "      <td>4.6</td>\n",
              "      <td>Focused,Happy,Euphoric,Relaxed,Sleepy</td>\n",
              "      <td>NaN</td>\n",
              "      <td>Purple Pinecone by Sagarmatha Seeds is a dense...</td>\n",
              "    </tr>\n",
              "    <tr>\n",
              "      <th>1756</th>\n",
              "      <td>Rebel-God-Smoke</td>\n",
              "      <td>sativa</td>\n",
              "      <td>5.0</td>\n",
              "      <td>Uplifted,Euphoric,Energetic,Focused,Happy</td>\n",
              "      <td>NaN</td>\n",
              "      <td>Rebel God Smoke is a pro-grade sativa-dominant...</td>\n",
              "    </tr>\n",
              "    <tr>\n",
              "      <th>1771</th>\n",
              "      <td>Redd-Cross</td>\n",
              "      <td>hybrid</td>\n",
              "      <td>5.0</td>\n",
              "      <td>Sleepy,Relaxed,Tingly,Hungry</td>\n",
              "      <td>NaN</td>\n",
              "      <td>Redd Cross is an indica-dominant hybrid bred b...</td>\n",
              "    </tr>\n",
              "    <tr>\n",
              "      <th>1772</th>\n",
              "      <td>Redding-Og</td>\n",
              "      <td>hybrid</td>\n",
              "      <td>4.3</td>\n",
              "      <td>Talkative,Euphoric,Giggly,Happy,Hungry</td>\n",
              "      <td>NaN</td>\n",
              "      <td>Redding OG is a hybrid strain that won 3rd pla...</td>\n",
              "    </tr>\n",
              "    <tr>\n",
              "      <th>1853</th>\n",
              "      <td>Shining-Silver-Haze</td>\n",
              "      <td>sativa</td>\n",
              "      <td>4.8</td>\n",
              "      <td>Talkative,Uplifted,Relaxed,Euphoric,Hungry</td>\n",
              "      <td>NaN</td>\n",
              "      <td>Shining Silver Haze is Royal Queen Seeds’ vers...</td>\n",
              "    </tr>\n",
              "    <tr>\n",
              "      <th>1916</th>\n",
              "      <td>Soul-Shine</td>\n",
              "      <td>hybrid</td>\n",
              "      <td>4.1</td>\n",
              "      <td>Euphoric,Happy,Creative,Hungry,Uplifted</td>\n",
              "      <td>NaN</td>\n",
              "      <td>Soul Shine will put a smile on your face. Prov...</td>\n",
              "    </tr>\n",
              "    <tr>\n",
              "      <th>1965</th>\n",
              "      <td>South-Indian-Indica</td>\n",
              "      <td>indica</td>\n",
              "      <td>3.8</td>\n",
              "      <td>None</td>\n",
              "      <td>NaN</td>\n",
              "      <td>South Indian refers to the indigenous varietie...</td>\n",
              "    </tr>\n",
              "    <tr>\n",
              "      <th>1972</th>\n",
              "      <td>Space-Jill</td>\n",
              "      <td>sativa</td>\n",
              "      <td>3.7</td>\n",
              "      <td>Creative,Focused,Energetic,Uplifted,Euphoric</td>\n",
              "      <td>NaN</td>\n",
              "      <td>Space Jill by TGA Genetics is a recreation of ...</td>\n",
              "    </tr>\n",
              "    <tr>\n",
              "      <th>2091</th>\n",
              "      <td>Swiss-Sativa</td>\n",
              "      <td>sativa</td>\n",
              "      <td>4.5</td>\n",
              "      <td>None</td>\n",
              "      <td>NaN</td>\n",
              "      <td>Swiss refers to any sativa strain that grows n...</td>\n",
              "    </tr>\n",
              "    <tr>\n",
              "      <th>2116</th>\n",
              "      <td>Tangie-Sunrise</td>\n",
              "      <td>hybrid</td>\n",
              "      <td>0.0</td>\n",
              "      <td>Tingly,Uplifted,Euphoric,Happy,Relaxed</td>\n",
              "      <td>NaN</td>\n",
              "      <td>Tangie Sunrise by Palomar Craft Cannabis is li...</td>\n",
              "    </tr>\n",
              "    <tr>\n",
              "      <th>2130</th>\n",
              "      <td>Thaidal-Wave</td>\n",
              "      <td>hybrid</td>\n",
              "      <td>3.8</td>\n",
              "      <td>Uplifted,Euphoric,Creative,Energetic,Focused</td>\n",
              "      <td>NaN</td>\n",
              "      <td>Thaidal Wave is a perfectly named hybrid that ...</td>\n",
              "    </tr>\n",
              "    <tr>\n",
              "      <th>2139</th>\n",
              "      <td>The-Fork</td>\n",
              "      <td>sativa</td>\n",
              "      <td>0.0</td>\n",
              "      <td>None</td>\n",
              "      <td>NaN</td>\n",
              "      <td>Colorado Seed Inc.’s “The Fork” is dubbed as s...</td>\n",
              "    </tr>\n",
              "    <tr>\n",
              "      <th>2181</th>\n",
              "      <td>Transformer</td>\n",
              "      <td>hybrid</td>\n",
              "      <td>4.0</td>\n",
              "      <td>Sleepy,Tingly,Uplifted,Creative,Energetic</td>\n",
              "      <td>NaN</td>\n",
              "      <td>Transformer by Gage Green Genetics is a combin...</td>\n",
              "    </tr>\n",
              "    <tr>\n",
              "      <th>2225</th>\n",
              "      <td>Vanilluna</td>\n",
              "      <td>hybrid</td>\n",
              "      <td>4.8</td>\n",
              "      <td>Sleepy,Happy,Relaxed</td>\n",
              "      <td>NaN</td>\n",
              "      <td>World renowned Oregon breeder DJ Short used hi...</td>\n",
              "    </tr>\n",
              "    <tr>\n",
              "      <th>2237</th>\n",
              "      <td>Violeta</td>\n",
              "      <td>hybrid</td>\n",
              "      <td>0.0</td>\n",
              "      <td>None</td>\n",
              "      <td>NaN</td>\n",
              "      <td>Violeta by Ace Seeds is an indica-dominant hyb...</td>\n",
              "    </tr>\n",
              "    <tr>\n",
              "      <th>2248</th>\n",
              "      <td>Walrus-Kush</td>\n",
              "      <td>hybrid</td>\n",
              "      <td>4.3</td>\n",
              "      <td>Happy,Giggly,Uplifted,Creative,Hungry</td>\n",
              "      <td>NaN</td>\n",
              "      <td>While normally difficult to ignore, this Walru...</td>\n",
              "    </tr>\n",
              "    <tr>\n",
              "      <th>2257</th>\n",
              "      <td>Wembley</td>\n",
              "      <td>indica</td>\n",
              "      <td>4.0</td>\n",
              "      <td>None</td>\n",
              "      <td>NaN</td>\n",
              "      <td>Wembley by Pyramid Seeds is an indica-dominant...</td>\n",
              "    </tr>\n",
              "    <tr>\n",
              "      <th>2309</th>\n",
              "      <td>White-Walrus</td>\n",
              "      <td>hybrid</td>\n",
              "      <td>2.5</td>\n",
              "      <td>Talkative,Uplifted,Creative,Energetic,Euphoric</td>\n",
              "      <td>NaN</td>\n",
              "      <td>White Walrus is a phenotype of Chernobyl, grow...</td>\n",
              "    </tr>\n",
              "  </tbody>\n",
              "</table>\n",
              "</div>"
            ],
            "text/plain": [
              "                   Strain  ...                                        Description\n",
              "103              Amethyst  ...  Amethyst is a hybrid cannabis strain from the ...\n",
              "123          Arabian-Gold  ...  Arabian Gold is a heavy sativa strain of myste...\n",
              "160          Bad-Azz-Kush  ...  Bad Azz Kush by Barney’s Farm was created with...\n",
              "215             Birds-Eye  ...  Birds Eye is a variety of Jack Herer grown by ...\n",
              "364              Boombaye  ...  Boombaye by Mr. Mack’s Snack is a CBD-rich str...\n",
              "379          Broke-Diesel  ...  Broke Diesel is a 50/50 hybrid marijuana strai...\n",
              "484         Chem-Jong-Ill  ...  This sativa-dominant cross is for cannabis pro...\n",
              "574    Confidential-Wreck  ...  Confidential Wreck, also known as Lohan, is th...\n",
              "673            Do-Over-Og  ...  Do-Over OG is an indica-dominant strain that c...\n",
              "679                Domino  ...                                                NaN\n",
              "770                 Ether  ...  Generally referred to as Alien Dawg (“Ether” c...\n",
              "831               G-Force  ...  G-Force by Flying Dutchman is a hearty G13 and...\n",
              "899              Goldwing  ...                                                NaN\n",
              "964             Grimmdica  ...  Legendary Canadian breeders Brothers Grimm See...\n",
              "970            Guido-Kush  ...                                                NaN\n",
              "1066                 I-95  ...  I-95 is deep hybrid cut bred from Triangle Kus...\n",
              "1093                 Jt15  ...  JT15 is an indica Kush cross with a powerful o...\n",
              "1177                Khola  ...  Khola is a sociable cross between Brazilian, T...\n",
              "1199             Krakatoa  ...                                                NaN\n",
              "1252             Lem-Chem  ...  Lem Chem is a potent hybrid that is both sweet...\n",
              "1365                Matsu  ...                                                NaN\n",
              "1366              Mau-Mau  ...  Mau-Mau is a hybrid from Irie Vibe Seeds that ...\n",
              "1440             Mud-Bite  ...  There is a very little known about Mud Bite. T...\n",
              "1512    Old-Mother-Sativa  ...  Old Mother Sativa is an enormous plant with up...\n",
              "1545       Orient-Express  ...  Orient Express by Ace Seeds is a sativa-domina...\n",
              "1553               Pvc-Og  ...  PVC OG is a proprietary strain introduced by P...\n",
              "1577       Peyton-Manning  ...  Peyton Manning is a horticultural homage to De...\n",
              "1706       Purple-Pantera  ...  Purple Pantera is an indica-dominant hybrid br...\n",
              "1711      Purple-Pinecone  ...  Purple Pinecone by Sagarmatha Seeds is a dense...\n",
              "1756      Rebel-God-Smoke  ...  Rebel God Smoke is a pro-grade sativa-dominant...\n",
              "1771           Redd-Cross  ...  Redd Cross is an indica-dominant hybrid bred b...\n",
              "1772           Redding-Og  ...  Redding OG is a hybrid strain that won 3rd pla...\n",
              "1853  Shining-Silver-Haze  ...  Shining Silver Haze is Royal Queen Seeds’ vers...\n",
              "1916           Soul-Shine  ...  Soul Shine will put a smile on your face. Prov...\n",
              "1965  South-Indian-Indica  ...  South Indian refers to the indigenous varietie...\n",
              "1972           Space-Jill  ...  Space Jill by TGA Genetics is a recreation of ...\n",
              "2091         Swiss-Sativa  ...  Swiss refers to any sativa strain that grows n...\n",
              "2116       Tangie-Sunrise  ...  Tangie Sunrise by Palomar Craft Cannabis is li...\n",
              "2130         Thaidal-Wave  ...  Thaidal Wave is a perfectly named hybrid that ...\n",
              "2139             The-Fork  ...  Colorado Seed Inc.’s “The Fork” is dubbed as s...\n",
              "2181          Transformer  ...  Transformer by Gage Green Genetics is a combin...\n",
              "2225            Vanilluna  ...  World renowned Oregon breeder DJ Short used hi...\n",
              "2237              Violeta  ...  Violeta by Ace Seeds is an indica-dominant hyb...\n",
              "2248          Walrus-Kush  ...  While normally difficult to ignore, this Walru...\n",
              "2257              Wembley  ...  Wembley by Pyramid Seeds is an indica-dominant...\n",
              "2309         White-Walrus  ...  White Walrus is a phenotype of Chernobyl, grow...\n",
              "\n",
              "[46 rows x 6 columns]"
            ]
          },
          "metadata": {
            "tags": []
          },
          "execution_count": 5
        }
      ]
    },
    {
      "cell_type": "code",
      "metadata": {
        "id": "B0g6e-1W2GWx",
        "colab_type": "code",
        "colab": {}
      },
      "source": [
        "# Replacing the NaN values for none in the Flavor column\n",
        "\n",
        "weed['Flavor'] = weed['Flavor'].replace(np.nan, 'none')"
      ],
      "execution_count": null,
      "outputs": []
    },
    {
      "cell_type": "code",
      "metadata": {
        "id": "5Jj9B1EZ2S-X",
        "colab_type": "code",
        "colab": {
          "base_uri": "https://localhost:8080/",
          "height": 47
        },
        "outputId": "5af1cdb4-7e13-4cc4-c7b2-c4e665b9303b"
      },
      "source": [
        "# Making sure that there are no NaN values left\n",
        "\n",
        "weed[weed['Flavor'].isnull()]"
      ],
      "execution_count": null,
      "outputs": [
        {
          "output_type": "execute_result",
          "data": {
            "text/html": [
              "<div>\n",
              "<style scoped>\n",
              "    .dataframe tbody tr th:only-of-type {\n",
              "        vertical-align: middle;\n",
              "    }\n",
              "\n",
              "    .dataframe tbody tr th {\n",
              "        vertical-align: top;\n",
              "    }\n",
              "\n",
              "    .dataframe thead th {\n",
              "        text-align: right;\n",
              "    }\n",
              "</style>\n",
              "<table border=\"1\" class=\"dataframe\">\n",
              "  <thead>\n",
              "    <tr style=\"text-align: right;\">\n",
              "      <th></th>\n",
              "      <th>Strain</th>\n",
              "      <th>Type</th>\n",
              "      <th>Rating</th>\n",
              "      <th>Effects</th>\n",
              "      <th>Flavor</th>\n",
              "      <th>Description</th>\n",
              "    </tr>\n",
              "  </thead>\n",
              "  <tbody>\n",
              "  </tbody>\n",
              "</table>\n",
              "</div>"
            ],
            "text/plain": [
              "Empty DataFrame\n",
              "Columns: [Strain, Type, Rating, Effects, Flavor, Description]\n",
              "Index: []"
            ]
          },
          "metadata": {
            "tags": []
          },
          "execution_count": 7
        }
      ]
    },
    {
      "cell_type": "code",
      "metadata": {
        "id": "NNzbVW0b0q5M",
        "colab_type": "code",
        "colab": {}
      },
      "source": [
        "# Combining Effects and Flavor into once column to use for one hot encoding\n",
        "\n",
        "weed['Effect_Flavor'] = weed['Effects'] + ',' +  weed['Flavor'] # If you don't add the comma it just smooshes the words together"
      ],
      "execution_count": null,
      "outputs": []
    },
    {
      "cell_type": "code",
      "metadata": {
        "id": "6Nu1DhpN1Wfb",
        "colab_type": "code",
        "colab": {
          "base_uri": "https://localhost:8080/",
          "height": 469
        },
        "outputId": "925cb96a-a347-48ef-ef29-dbecf2252c57"
      },
      "source": [
        "# Checking to making sure it added correctly\n",
        "\n",
        "weed"
      ],
      "execution_count": null,
      "outputs": [
        {
          "output_type": "execute_result",
          "data": {
            "text/html": [
              "<div>\n",
              "<style scoped>\n",
              "    .dataframe tbody tr th:only-of-type {\n",
              "        vertical-align: middle;\n",
              "    }\n",
              "\n",
              "    .dataframe tbody tr th {\n",
              "        vertical-align: top;\n",
              "    }\n",
              "\n",
              "    .dataframe thead th {\n",
              "        text-align: right;\n",
              "    }\n",
              "</style>\n",
              "<table border=\"1\" class=\"dataframe\">\n",
              "  <thead>\n",
              "    <tr style=\"text-align: right;\">\n",
              "      <th></th>\n",
              "      <th>Strain</th>\n",
              "      <th>Type</th>\n",
              "      <th>Rating</th>\n",
              "      <th>Effects</th>\n",
              "      <th>Flavor</th>\n",
              "      <th>Description</th>\n",
              "      <th>Effect_Flavor</th>\n",
              "    </tr>\n",
              "  </thead>\n",
              "  <tbody>\n",
              "    <tr>\n",
              "      <th>0</th>\n",
              "      <td>100-Og</td>\n",
              "      <td>hybrid</td>\n",
              "      <td>4.0</td>\n",
              "      <td>Creative,Energetic,Tingly,Euphoric,Relaxed</td>\n",
              "      <td>Earthy,Sweet,Citrus</td>\n",
              "      <td>$100 OG is a 50/50 hybrid strain that packs a ...</td>\n",
              "      <td>Creative,Energetic,Tingly,Euphoric,Relaxed,Ear...</td>\n",
              "    </tr>\n",
              "    <tr>\n",
              "      <th>1</th>\n",
              "      <td>98-White-Widow</td>\n",
              "      <td>hybrid</td>\n",
              "      <td>4.7</td>\n",
              "      <td>Relaxed,Aroused,Creative,Happy,Energetic</td>\n",
              "      <td>Flowery,Violet,Diesel</td>\n",
              "      <td>The ‘98 Aloha White Widow is an especially pot...</td>\n",
              "      <td>Relaxed,Aroused,Creative,Happy,Energetic,Flowe...</td>\n",
              "    </tr>\n",
              "    <tr>\n",
              "      <th>2</th>\n",
              "      <td>1024</td>\n",
              "      <td>sativa</td>\n",
              "      <td>4.4</td>\n",
              "      <td>Uplifted,Happy,Relaxed,Energetic,Creative</td>\n",
              "      <td>Spicy/Herbal,Sage,Woody</td>\n",
              "      <td>1024 is a sativa-dominant hybrid bred in Spain...</td>\n",
              "      <td>Uplifted,Happy,Relaxed,Energetic,Creative,Spic...</td>\n",
              "    </tr>\n",
              "    <tr>\n",
              "      <th>3</th>\n",
              "      <td>13-Dawgs</td>\n",
              "      <td>hybrid</td>\n",
              "      <td>4.2</td>\n",
              "      <td>Tingly,Creative,Hungry,Relaxed,Uplifted</td>\n",
              "      <td>Apricot,Citrus,Grapefruit</td>\n",
              "      <td>13 Dawgs is a hybrid of G13 and Chemdawg genet...</td>\n",
              "      <td>Tingly,Creative,Hungry,Relaxed,Uplifted,Aprico...</td>\n",
              "    </tr>\n",
              "    <tr>\n",
              "      <th>4</th>\n",
              "      <td>24K-Gold</td>\n",
              "      <td>hybrid</td>\n",
              "      <td>4.6</td>\n",
              "      <td>Happy,Relaxed,Euphoric,Uplifted,Talkative</td>\n",
              "      <td>Citrus,Earthy,Orange</td>\n",
              "      <td>Also known as Kosher Tangie, 24k Gold is a 60%...</td>\n",
              "      <td>Happy,Relaxed,Euphoric,Uplifted,Talkative,Citr...</td>\n",
              "    </tr>\n",
              "    <tr>\n",
              "      <th>...</th>\n",
              "      <td>...</td>\n",
              "      <td>...</td>\n",
              "      <td>...</td>\n",
              "      <td>...</td>\n",
              "      <td>...</td>\n",
              "      <td>...</td>\n",
              "      <td>...</td>\n",
              "    </tr>\n",
              "    <tr>\n",
              "      <th>2346</th>\n",
              "      <td>Zeus-Og</td>\n",
              "      <td>hybrid</td>\n",
              "      <td>4.7</td>\n",
              "      <td>Happy,Uplifted,Relaxed,Euphoric,Energetic</td>\n",
              "      <td>Earthy,Woody,Pine</td>\n",
              "      <td>Zeus OG is a hybrid cross between Pineapple OG...</td>\n",
              "      <td>Happy,Uplifted,Relaxed,Euphoric,Energetic,Eart...</td>\n",
              "    </tr>\n",
              "    <tr>\n",
              "      <th>2347</th>\n",
              "      <td>Zkittlez</td>\n",
              "      <td>indica</td>\n",
              "      <td>4.6</td>\n",
              "      <td>Relaxed,Happy,Euphoric,Uplifted,Sleepy</td>\n",
              "      <td>Sweet,Berry,Grape</td>\n",
              "      <td>Zkittlez is an indica-dominant mix of Grape Ap...</td>\n",
              "      <td>Relaxed,Happy,Euphoric,Uplifted,Sleepy,Sweet,B...</td>\n",
              "    </tr>\n",
              "    <tr>\n",
              "      <th>2348</th>\n",
              "      <td>Zombie-Kush</td>\n",
              "      <td>indica</td>\n",
              "      <td>5.0</td>\n",
              "      <td>Relaxed,Sleepy,Talkative,Euphoric,Happy</td>\n",
              "      <td>Earthy,Sweet,Spicy/Herbal</td>\n",
              "      <td>Zombie Kush by Ripper Seeds comes from two dif...</td>\n",
              "      <td>Relaxed,Sleepy,Talkative,Euphoric,Happy,Earthy...</td>\n",
              "    </tr>\n",
              "    <tr>\n",
              "      <th>2349</th>\n",
              "      <td>Zombie-Og</td>\n",
              "      <td>indica</td>\n",
              "      <td>4.4</td>\n",
              "      <td>Relaxed,Sleepy,Euphoric,Happy,Hungry</td>\n",
              "      <td>Sweet,Earthy,Pungent</td>\n",
              "      <td>If you’re looking to transform into a flesh-ea...</td>\n",
              "      <td>Relaxed,Sleepy,Euphoric,Happy,Hungry,Sweet,Ear...</td>\n",
              "    </tr>\n",
              "    <tr>\n",
              "      <th>2350</th>\n",
              "      <td>Zoom-Pie</td>\n",
              "      <td>indica</td>\n",
              "      <td>4.6</td>\n",
              "      <td>Hungry,Relaxed,Uplifted,Happy,Sleepy</td>\n",
              "      <td>Berry,Earthy,Pungent</td>\n",
              "      <td>Zoom Pie (also known as Zombie Pie) is a heavy...</td>\n",
              "      <td>Hungry,Relaxed,Uplifted,Happy,Sleepy,Berry,Ear...</td>\n",
              "    </tr>\n",
              "  </tbody>\n",
              "</table>\n",
              "<p>2351 rows × 7 columns</p>\n",
              "</div>"
            ],
            "text/plain": [
              "              Strain  ...                                      Effect_Flavor\n",
              "0             100-Og  ...  Creative,Energetic,Tingly,Euphoric,Relaxed,Ear...\n",
              "1     98-White-Widow  ...  Relaxed,Aroused,Creative,Happy,Energetic,Flowe...\n",
              "2               1024  ...  Uplifted,Happy,Relaxed,Energetic,Creative,Spic...\n",
              "3           13-Dawgs  ...  Tingly,Creative,Hungry,Relaxed,Uplifted,Aprico...\n",
              "4           24K-Gold  ...  Happy,Relaxed,Euphoric,Uplifted,Talkative,Citr...\n",
              "...              ...  ...                                                ...\n",
              "2346         Zeus-Og  ...  Happy,Uplifted,Relaxed,Euphoric,Energetic,Eart...\n",
              "2347        Zkittlez  ...  Relaxed,Happy,Euphoric,Uplifted,Sleepy,Sweet,B...\n",
              "2348     Zombie-Kush  ...  Relaxed,Sleepy,Talkative,Euphoric,Happy,Earthy...\n",
              "2349       Zombie-Og  ...  Relaxed,Sleepy,Euphoric,Happy,Hungry,Sweet,Ear...\n",
              "2350        Zoom-Pie  ...  Hungry,Relaxed,Uplifted,Happy,Sleepy,Berry,Ear...\n",
              "\n",
              "[2351 rows x 7 columns]"
            ]
          },
          "metadata": {
            "tags": []
          },
          "execution_count": 9
        }
      ]
    },
    {
      "cell_type": "code",
      "metadata": {
        "id": "erG7-Epl1gCw",
        "colab_type": "code",
        "colab": {
          "base_uri": "https://localhost:8080/",
          "height": 34
        },
        "outputId": "c737629c-2877-49c7-88a0-3e7fa25eef0f"
      },
      "source": [
        "# Checking one row to better see all the items and making sure the comma seperated the words correctly\n",
        "\n",
        "weed['Effect_Flavor'][0]"
      ],
      "execution_count": null,
      "outputs": [
        {
          "output_type": "execute_result",
          "data": {
            "text/plain": [
              "'Creative,Energetic,Tingly,Euphoric,Relaxed,Earthy,Sweet,Citrus'"
            ]
          },
          "metadata": {
            "tags": []
          },
          "execution_count": 10
        }
      ]
    },
    {
      "cell_type": "code",
      "metadata": {
        "id": "brEoFdsj1lh0",
        "colab_type": "code",
        "colab": {
          "base_uri": "https://localhost:8080/",
          "height": 101
        },
        "outputId": "f3d70238-e2a6-4fcb-90be-94742315a776"
      },
      "source": [
        "# Looking at my new column\n",
        "\n",
        "weed['Effect_Flavor'].describe()"
      ],
      "execution_count": null,
      "outputs": [
        {
          "output_type": "execute_result",
          "data": {
            "text/plain": [
              "count          2351\n",
              "unique         2257\n",
              "top       None,None\n",
              "freq             73\n",
              "Name: Effect_Flavor, dtype: object"
            ]
          },
          "metadata": {
            "tags": []
          },
          "execution_count": 11
        }
      ]
    },
    {
      "cell_type": "markdown",
      "metadata": {
        "id": "bWUJVQq5Dvyr",
        "colab_type": "text"
      },
      "source": [
        "### MODEL PREPERATION"
      ]
    },
    {
      "cell_type": "code",
      "metadata": {
        "id": "wkg8Ovtb-B2V",
        "colab_type": "code",
        "colab": {}
      },
      "source": [
        "# Split into X and y\n",
        "\n",
        "X = weed['Effect_Flavor']\n",
        "y = weed['Strain']"
      ],
      "execution_count": null,
      "outputs": []
    },
    {
      "cell_type": "code",
      "metadata": {
        "id": "71_6XFdptRqX",
        "colab_type": "code",
        "colab": {
          "base_uri": "https://localhost:8080/",
          "height": 34
        },
        "outputId": "1d50813a-3236-41a4-c73f-9ee68d2fe960"
      },
      "source": [
        "# Checking X shape\n",
        "\n",
        "X.shape"
      ],
      "execution_count": null,
      "outputs": [
        {
          "output_type": "execute_result",
          "data": {
            "text/plain": [
              "(2351,)"
            ]
          },
          "metadata": {
            "tags": []
          },
          "execution_count": 13
        }
      ]
    },
    {
      "cell_type": "code",
      "metadata": {
        "id": "xQsCK3MWtToL",
        "colab_type": "code",
        "colab": {
          "base_uri": "https://localhost:8080/",
          "height": 34
        },
        "outputId": "27b6c6ef-6c47-4c8e-ce72-e36af2435ff6"
      },
      "source": [
        "# Checking y shape\n",
        "\n",
        "y.shape"
      ],
      "execution_count": null,
      "outputs": [
        {
          "output_type": "execute_result",
          "data": {
            "text/plain": [
              "(2351,)"
            ]
          },
          "metadata": {
            "tags": []
          },
          "execution_count": 14
        }
      ]
    },
    {
      "cell_type": "code",
      "metadata": {
        "id": "SaLKsP0aktJu",
        "colab_type": "code",
        "colab": {}
      },
      "source": [
        "# Since the neural network cannot take in straight text I am going to vectorize my X data\n",
        "\n",
        "# create the transformer\n",
        "vect = CountVectorizer()\n",
        "\n",
        "# build vocab\n",
        "vect.fit(X)\n",
        "\n",
        "# transform text\n",
        "dtm = vect.transform(X)"
      ],
      "execution_count": null,
      "outputs": []
    },
    {
      "cell_type": "code",
      "metadata": {
        "id": "P6NKGoP8k3aA",
        "colab_type": "code",
        "colab": {
          "base_uri": "https://localhost:8080/",
          "height": 54
        },
        "outputId": "cef006c7-f70d-4f4f-eb12-92803e75a6ce"
      },
      "source": [
        "# Checking to see that the feature names are correct\n",
        "\n",
        "print(vect.get_feature_names())"
      ],
      "execution_count": null,
      "outputs": [
        {
          "output_type": "stream",
          "text": [
            "['ammonia', 'apple', 'apricot', 'aroused', 'berry', 'blue', 'blueberry', 'butter', 'cheese', 'chemical', 'chestnut', 'citrus', 'coffee', 'creative', 'diesel', 'dry', 'earthy', 'energetic', 'euphoric', 'flowery', 'focused', 'fruit', 'giggly', 'grape', 'grapefruit', 'happy', 'herbal', 'honey', 'hungry', 'lavender', 'lemon', 'lime', 'mango', 'menthol', 'mint', 'minty', 'mouth', 'none', 'nutty', 'orange', 'peach', 'pear', 'pepper', 'pine', 'pineapple', 'plum', 'pungent', 'relaxed', 'rose', 'sage', 'skunk', 'sleepy', 'spicy', 'strawberry', 'sweet', 'talkative', 'tar', 'tea', 'tingly', 'tobacco', 'tree', 'tropical', 'uplifted', 'vanilla', 'violet', 'woody']\n"
          ],
          "name": "stdout"
        }
      ]
    },
    {
      "cell_type": "code",
      "metadata": {
        "id": "0zV1UT9nlMIO",
        "colab_type": "code",
        "colab": {}
      },
      "source": [
        "# Now I am going to use todense() to turn X into a matrix\n",
        "\n",
        "X = dtm.todense()"
      ],
      "execution_count": null,
      "outputs": []
    },
    {
      "cell_type": "code",
      "metadata": {
        "id": "vT1tzQf8qUpF",
        "colab_type": "code",
        "colab": {
          "base_uri": "https://localhost:8080/",
          "height": 134
        },
        "outputId": "017856bb-98da-421e-abc0-584d47aff283"
      },
      "source": [
        "# Make sure it turned into a matrix correctly\n",
        "\n",
        "X"
      ],
      "execution_count": null,
      "outputs": [
        {
          "output_type": "execute_result",
          "data": {
            "text/plain": [
              "matrix([[0, 0, 0, ..., 0, 0, 0],\n",
              "        [0, 0, 0, ..., 0, 1, 0],\n",
              "        [0, 0, 0, ..., 0, 0, 1],\n",
              "        ...,\n",
              "        [0, 0, 0, ..., 0, 0, 0],\n",
              "        [0, 0, 0, ..., 0, 0, 0],\n",
              "        [0, 0, 0, ..., 0, 0, 0]])"
            ]
          },
          "metadata": {
            "tags": []
          },
          "execution_count": 18
        }
      ]
    },
    {
      "cell_type": "code",
      "metadata": {
        "id": "D3JrP31IqbsT",
        "colab_type": "code",
        "colab": {}
      },
      "source": [
        "# I am using label encoder for y\n",
        "# Label encoder turns y into a numeric representation of the data\n",
        "\n",
        "le = preprocessing.LabelEncoder()\n",
        "y = le.fit_transform(y)"
      ],
      "execution_count": null,
      "outputs": []
    },
    {
      "cell_type": "code",
      "metadata": {
        "id": "rVMz-HhUxH9u",
        "colab_type": "code",
        "colab": {
          "base_uri": "https://localhost:8080/",
          "height": 34
        },
        "outputId": "1f9bb074-c7af-4026-e3f5-27cad18588ed"
      },
      "source": [
        "# Check to make sure that y is an array now\n",
        "\n",
        "y"
      ],
      "execution_count": null,
      "outputs": [
        {
          "output_type": "execute_result",
          "data": {
            "text/plain": [
              "array([   0,   18,    1, ..., 2347, 2348, 2349])"
            ]
          },
          "metadata": {
            "tags": []
          },
          "execution_count": 20
        }
      ]
    },
    {
      "cell_type": "code",
      "metadata": {
        "id": "uRNf7yknnHEE",
        "colab_type": "code",
        "colab": {
          "base_uri": "https://localhost:8080/",
          "height": 34
        },
        "outputId": "ed669cea-d190-4a5a-960d-86cec0471bc5"
      },
      "source": [
        "# Checking to make sure the X shape looks good\n",
        "\n",
        "X.shape"
      ],
      "execution_count": null,
      "outputs": [
        {
          "output_type": "execute_result",
          "data": {
            "text/plain": [
              "(2351, 66)"
            ]
          },
          "metadata": {
            "tags": []
          },
          "execution_count": 21
        }
      ]
    },
    {
      "cell_type": "code",
      "metadata": {
        "id": "AS-g8VacnKq9",
        "colab_type": "code",
        "colab": {
          "base_uri": "https://localhost:8080/",
          "height": 34
        },
        "outputId": "cac053d7-1f55-4657-ac21-66f7112cc11d"
      },
      "source": [
        "# Checking to make sure the y shape looks good\n",
        "\n",
        "y.shape"
      ],
      "execution_count": null,
      "outputs": [
        {
          "output_type": "execute_result",
          "data": {
            "text/plain": [
              "(2351,)"
            ]
          },
          "metadata": {
            "tags": []
          },
          "execution_count": 22
        }
      ]
    },
    {
      "cell_type": "code",
      "metadata": {
        "id": "Y6v4fwuEypUV",
        "colab_type": "code",
        "colab": {
          "base_uri": "https://localhost:8080/",
          "height": 67
        },
        "outputId": "22e23e57-e1d9-4927-dfbc-643462d54b65"
      },
      "source": [
        "# Checking to make sure my X and y look good\n",
        "\n",
        "print(X[1])\n",
        "print(y[0:5])"
      ],
      "execution_count": null,
      "outputs": [
        {
          "output_type": "stream",
          "text": [
            "[[0 0 0 1 0 0 0 0 0 0 0 0 0 1 1 0 0 1 0 1 0 0 0 0 0 1 0 0 0 0 0 0 0 0 0 0\n",
            "  0 0 0 0 0 0 0 0 0 0 0 1 0 0 0 0 0 0 0 0 0 0 0 0 0 0 0 0 1 0]]\n",
            "[ 0 18  1  2  3]\n"
          ],
          "name": "stdout"
        }
      ]
    },
    {
      "cell_type": "markdown",
      "metadata": {
        "id": "ocSIwOSWD1jD",
        "colab_type": "text"
      },
      "source": [
        "### CREATE NEURAL NETWORK"
      ]
    },
    {
      "cell_type": "code",
      "metadata": {
        "id": "AGAxhgzD5Sf7",
        "colab_type": "code",
        "colab": {}
      },
      "source": [
        "# Creating my own optimizer\n",
        "# AdamamsGrad is using a super low learning_rate which means the changes between epochs will be smaller\n",
        "\n",
        "AdamamsGrad = tf.keras.optimizers.Adam(\n",
        "    learning_rate=0.0001,\n",
        "    amsgrad=False,\n",
        ")"
      ],
      "execution_count": null,
      "outputs": []
    },
    {
      "cell_type": "code",
      "metadata": {
        "id": "Cg75V1qHGrPd",
        "colab_type": "code",
        "colab": {
          "base_uri": "https://localhost:8080/",
          "height": 286
        },
        "outputId": "7ddd23a6-191e-4601-fa83-e4e33d256853"
      },
      "source": [
        "# Instantiating my model type and creating the model architecture\n",
        "\n",
        "model = Sequential()\n",
        "\n",
        "model.add(Input(66))\n",
        "model.add(Dense(64, activation='relu'))\n",
        "model.add(Dense(128, activation='relu'))\n",
        "model.add(Dense(256, activation='relu'))\n",
        "model.add(Dense(2350, activation='softmax'))\n",
        "\n",
        "model.compile(loss='sparse_categorical_crossentropy',\n",
        "              optimizer=AdamamsGrad, \n",
        "              metrics=['accuracy'])\n",
        "\n",
        "model.summary()"
      ],
      "execution_count": null,
      "outputs": [
        {
          "output_type": "stream",
          "text": [
            "Model: \"sequential\"\n",
            "_________________________________________________________________\n",
            "Layer (type)                 Output Shape              Param #   \n",
            "=================================================================\n",
            "dense (Dense)                (None, 64)                4288      \n",
            "_________________________________________________________________\n",
            "dense_1 (Dense)              (None, 128)               8320      \n",
            "_________________________________________________________________\n",
            "dense_2 (Dense)              (None, 256)               33024     \n",
            "_________________________________________________________________\n",
            "dense_3 (Dense)              (None, 2350)              603950    \n",
            "=================================================================\n",
            "Total params: 649,582\n",
            "Trainable params: 649,582\n",
            "Non-trainable params: 0\n",
            "_________________________________________________________________\n"
          ],
          "name": "stdout"
        }
      ]
    },
    {
      "cell_type": "markdown",
      "metadata": {
        "id": "jRbJ7oxnD85b",
        "colab_type": "text"
      },
      "source": [
        "### TEST PREDICTION MODEL"
      ]
    },
    {
      "cell_type": "code",
      "metadata": {
        "id": "fle7WDrIG5kh",
        "colab_type": "code",
        "colab": {}
      },
      "source": [
        "# Fitting my model and getting my accuracy\n",
        "\n",
        "test = model.fit(X,y, epochs=100)"
      ],
      "execution_count": null,
      "outputs": []
    },
    {
      "cell_type": "code",
      "metadata": {
        "id": "ofU_azRxF9mF",
        "colab_type": "code",
        "colab": {}
      },
      "source": [
        "weed_layer = model.get_layer('book_embedding')\n",
        "book_weights = book_layer.get_weights()[0]"
      ],
      "execution_count": null,
      "outputs": []
    },
    {
      "cell_type": "markdown",
      "metadata": {
        "id": "D4JUQugWQM5B",
        "colab_type": "text"
      },
      "source": [
        "### PICKLE THE MODEL"
      ]
    },
    {
      "cell_type": "code",
      "metadata": {
        "id": "d6peXiHmQgCl",
        "colab_type": "code",
        "colab": {}
      },
      "source": [
        ""
      ],
      "execution_count": null,
      "outputs": []
    }
  ]
}